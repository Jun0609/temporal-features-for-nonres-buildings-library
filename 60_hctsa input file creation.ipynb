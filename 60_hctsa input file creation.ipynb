{
 "cells": [
  {
   "cell_type": "markdown",
   "metadata": {},
   "source": [
    "# Creating input files for the hctsa using meta data"
   ]
  },
  {
   "cell_type": "code",
   "execution_count": 11,
   "metadata": {
    "collapsed": false
   },
   "outputs": [],
   "source": [
    "import pandas as pd\n",
    "import seaborn as sns\n",
    "import numpy as np\n",
    "import os\n"
   ]
  },
  {
   "cell_type": "code",
   "execution_count": 12,
   "metadata": {
    "collapsed": true
   },
   "outputs": [],
   "source": [
    "%matplotlib inline"
   ]
  },
  {
   "cell_type": "code",
   "execution_count": 13,
   "metadata": {
    "collapsed": false
   },
   "outputs": [],
   "source": [
    "repos_path = \"/Users/Clayton/temporal-features-for-buildings/\""
   ]
  },
  {
   "cell_type": "code",
   "execution_count": 14,
   "metadata": {
    "collapsed": false
   },
   "outputs": [],
   "source": [
    "meta = pd.read_csv(os.path.join(repos_path,\"data/raw/meta_open_withperformanceclasses.csv\"), index_col='uid', parse_dates=[\"datastart\",\"dataend\"], dayfirst=True)"
   ]
  },
  {
   "cell_type": "code",
   "execution_count": 15,
   "metadata": {
    "collapsed": true
   },
   "outputs": [],
   "source": [
    "temp = pd.read_csv((os.path.join(repos_path,\"data/interim/temp_open_utc_complete.csv\")), index_col='timestamp', parse_dates=True).tz_localize('utc')"
   ]
  },
  {
   "cell_type": "code",
   "execution_count": 16,
   "metadata": {
    "collapsed": false,
    "scrolled": true
   },
   "outputs": [
    {
     "data": {
      "text/html": [
       "<div>\n",
       "<table border=\"1\" class=\"dataframe\">\n",
       "  <thead>\n",
       "    <tr style=\"text-align: right;\">\n",
       "      <th></th>\n",
       "      <th>dataend</th>\n",
       "      <th>datastart</th>\n",
       "      <th>energystarscore</th>\n",
       "      <th>heatingtype</th>\n",
       "      <th>industry</th>\n",
       "      <th>mainheatingtype</th>\n",
       "      <th>numberoffloors</th>\n",
       "      <th>occupants</th>\n",
       "      <th>primaryspaceusage</th>\n",
       "      <th>rating</th>\n",
       "      <th>...</th>\n",
       "      <th>sqm</th>\n",
       "      <th>subindustry</th>\n",
       "      <th>timezone</th>\n",
       "      <th>yearbuilt</th>\n",
       "      <th>nickname</th>\n",
       "      <th>primaryspaceuse_abbrev</th>\n",
       "      <th>newweatherfilename</th>\n",
       "      <th>dailymeancons</th>\n",
       "      <th>usagecategory</th>\n",
       "      <th>operationsgroup</th>\n",
       "    </tr>\n",
       "    <tr>\n",
       "      <th>uid</th>\n",
       "      <th></th>\n",
       "      <th></th>\n",
       "      <th></th>\n",
       "      <th></th>\n",
       "      <th></th>\n",
       "      <th></th>\n",
       "      <th></th>\n",
       "      <th></th>\n",
       "      <th></th>\n",
       "      <th></th>\n",
       "      <th></th>\n",
       "      <th></th>\n",
       "      <th></th>\n",
       "      <th></th>\n",
       "      <th></th>\n",
       "      <th></th>\n",
       "      <th></th>\n",
       "      <th></th>\n",
       "      <th></th>\n",
       "      <th></th>\n",
       "      <th></th>\n",
       "    </tr>\n",
       "  </thead>\n",
       "  <tbody>\n",
       "    <tr>\n",
       "      <th>PrimClass_Everett</th>\n",
       "      <td>2012-12-31 23:00:00</td>\n",
       "      <td>2012-01-01</td>\n",
       "      <td>NaN</td>\n",
       "      <td>NaN</td>\n",
       "      <td>Education</td>\n",
       "      <td>NaN</td>\n",
       "      <td>NaN</td>\n",
       "      <td>NaN</td>\n",
       "      <td>Primary/Secondary Classroom</td>\n",
       "      <td>NaN</td>\n",
       "      <td>...</td>\n",
       "      <td>9804.053590</td>\n",
       "      <td>Primary/Secondary School</td>\n",
       "      <td>America/New_York</td>\n",
       "      <td>NaN</td>\n",
       "      <td>Everett</td>\n",
       "      <td>PrimClass</td>\n",
       "      <td>weather12.csv</td>\n",
       "      <td>0.005935</td>\n",
       "      <td>Low</td>\n",
       "      <td>Misc</td>\n",
       "    </tr>\n",
       "    <tr>\n",
       "      <th>UnivClass_Clifford</th>\n",
       "      <td>2015-12-31 23:00:00</td>\n",
       "      <td>2015-01-01</td>\n",
       "      <td>NaN</td>\n",
       "      <td>NaN</td>\n",
       "      <td>Education</td>\n",
       "      <td>NaN</td>\n",
       "      <td>NaN</td>\n",
       "      <td>NaN</td>\n",
       "      <td>College Classroom</td>\n",
       "      <td>NaN</td>\n",
       "      <td>...</td>\n",
       "      <td>5292.591007</td>\n",
       "      <td>College/University</td>\n",
       "      <td>America/New_York</td>\n",
       "      <td>1967</td>\n",
       "      <td>Clifford</td>\n",
       "      <td>UnivClass</td>\n",
       "      <td>weather2.csv</td>\n",
       "      <td>0.006464</td>\n",
       "      <td>Low</td>\n",
       "      <td>Group3</td>\n",
       "    </tr>\n",
       "    <tr>\n",
       "      <th>Office_Elizabeth</th>\n",
       "      <td>2012-12-31 23:00:00</td>\n",
       "      <td>2012-01-01</td>\n",
       "      <td>NaN</td>\n",
       "      <td>NaN</td>\n",
       "      <td>Commercial Property</td>\n",
       "      <td>NaN</td>\n",
       "      <td>NaN</td>\n",
       "      <td>NaN</td>\n",
       "      <td>Office</td>\n",
       "      <td>NaN</td>\n",
       "      <td>...</td>\n",
       "      <td>27373.961850</td>\n",
       "      <td>Commercial Real Estate</td>\n",
       "      <td>America/Los_Angeles</td>\n",
       "      <td>NaN</td>\n",
       "      <td>Elizabeth</td>\n",
       "      <td>Office</td>\n",
       "      <td>weather22.csv</td>\n",
       "      <td>0.007931</td>\n",
       "      <td>Low</td>\n",
       "      <td>Misc</td>\n",
       "    </tr>\n",
       "    <tr>\n",
       "      <th>Office_Ellie</th>\n",
       "      <td>2012-12-31 23:00:00</td>\n",
       "      <td>2012-01-01</td>\n",
       "      <td>NaN</td>\n",
       "      <td>NaN</td>\n",
       "      <td>Commercial Property</td>\n",
       "      <td>NaN</td>\n",
       "      <td>NaN</td>\n",
       "      <td>NaN</td>\n",
       "      <td>Office</td>\n",
       "      <td>NaN</td>\n",
       "      <td>...</td>\n",
       "      <td>46127.918850</td>\n",
       "      <td>Bank/Financial Services</td>\n",
       "      <td>America/Los_Angeles</td>\n",
       "      <td>NaN</td>\n",
       "      <td>Ellie</td>\n",
       "      <td>Office</td>\n",
       "      <td>weather28.csv</td>\n",
       "      <td>0.008237</td>\n",
       "      <td>Low</td>\n",
       "      <td>Misc</td>\n",
       "    </tr>\n",
       "    <tr>\n",
       "      <th>PrimClass_Elisabeth</th>\n",
       "      <td>2012-12-31 23:00:00</td>\n",
       "      <td>2012-01-01</td>\n",
       "      <td>NaN</td>\n",
       "      <td>NaN</td>\n",
       "      <td>Education</td>\n",
       "      <td>NaN</td>\n",
       "      <td>NaN</td>\n",
       "      <td>NaN</td>\n",
       "      <td>Primary/Secondary Classroom</td>\n",
       "      <td>NaN</td>\n",
       "      <td>...</td>\n",
       "      <td>21652.158990</td>\n",
       "      <td>Primary/Secondary School</td>\n",
       "      <td>America/New_York</td>\n",
       "      <td>NaN</td>\n",
       "      <td>Elisabeth</td>\n",
       "      <td>PrimClass</td>\n",
       "      <td>weather23.csv</td>\n",
       "      <td>0.008597</td>\n",
       "      <td>Low</td>\n",
       "      <td>Misc</td>\n",
       "    </tr>\n",
       "  </tbody>\n",
       "</table>\n",
       "<p>5 rows × 21 columns</p>\n",
       "</div>"
      ],
      "text/plain": [
       "                                dataend  datastart  energystarscore  \\\n",
       "uid                                                                   \n",
       "PrimClass_Everett   2012-12-31 23:00:00 2012-01-01              NaN   \n",
       "UnivClass_Clifford  2015-12-31 23:00:00 2015-01-01              NaN   \n",
       "Office_Elizabeth    2012-12-31 23:00:00 2012-01-01              NaN   \n",
       "Office_Ellie        2012-12-31 23:00:00 2012-01-01              NaN   \n",
       "PrimClass_Elisabeth 2012-12-31 23:00:00 2012-01-01              NaN   \n",
       "\n",
       "                    heatingtype             industry mainheatingtype  \\\n",
       "uid                                                                    \n",
       "PrimClass_Everett           NaN            Education             NaN   \n",
       "UnivClass_Clifford          NaN            Education             NaN   \n",
       "Office_Elizabeth            NaN  Commercial Property             NaN   \n",
       "Office_Ellie                NaN  Commercial Property             NaN   \n",
       "PrimClass_Elisabeth         NaN            Education             NaN   \n",
       "\n",
       "                     numberoffloors  occupants            primaryspaceusage  \\\n",
       "uid                                                                           \n",
       "PrimClass_Everett               NaN        NaN  Primary/Secondary Classroom   \n",
       "UnivClass_Clifford              NaN        NaN            College Classroom   \n",
       "Office_Elizabeth                NaN        NaN                       Office   \n",
       "Office_Ellie                    NaN        NaN                       Office   \n",
       "PrimClass_Elisabeth             NaN        NaN  Primary/Secondary Classroom   \n",
       "\n",
       "                    rating       ...                 sqm  \\\n",
       "uid                              ...                       \n",
       "PrimClass_Everett      NaN       ...         9804.053590   \n",
       "UnivClass_Clifford     NaN       ...         5292.591007   \n",
       "Office_Elizabeth       NaN       ...        27373.961850   \n",
       "Office_Ellie           NaN       ...        46127.918850   \n",
       "PrimClass_Elisabeth    NaN       ...        21652.158990   \n",
       "\n",
       "                                  subindustry             timezone yearbuilt  \\\n",
       "uid                                                                            \n",
       "PrimClass_Everett    Primary/Secondary School     America/New_York       NaN   \n",
       "UnivClass_Clifford         College/University     America/New_York      1967   \n",
       "Office_Elizabeth       Commercial Real Estate  America/Los_Angeles       NaN   \n",
       "Office_Ellie          Bank/Financial Services  America/Los_Angeles       NaN   \n",
       "PrimClass_Elisabeth  Primary/Secondary School     America/New_York       NaN   \n",
       "\n",
       "                      nickname primaryspaceuse_abbrev newweatherfilename  \\\n",
       "uid                                                                        \n",
       "PrimClass_Everett      Everett              PrimClass      weather12.csv   \n",
       "UnivClass_Clifford    Clifford              UnivClass       weather2.csv   \n",
       "Office_Elizabeth     Elizabeth                 Office      weather22.csv   \n",
       "Office_Ellie             Ellie                 Office      weather28.csv   \n",
       "PrimClass_Elisabeth  Elisabeth              PrimClass      weather23.csv   \n",
       "\n",
       "                    dailymeancons  usagecategory operationsgroup  \n",
       "uid                                                               \n",
       "PrimClass_Everett        0.005935            Low            Misc  \n",
       "UnivClass_Clifford       0.006464            Low          Group3  \n",
       "Office_Elizabeth         0.007931            Low            Misc  \n",
       "Office_Ellie             0.008237            Low            Misc  \n",
       "PrimClass_Elisabeth      0.008597            Low            Misc  \n",
       "\n",
       "[5 rows x 21 columns]"
      ]
     },
     "execution_count": 16,
     "metadata": {},
     "output_type": "execute_result"
    }
   ],
   "source": [
    "meta.head()"
   ]
  },
  {
   "cell_type": "markdown",
   "metadata": {},
   "source": [
    "# First we make the time series input files"
   ]
  },
  {
   "cell_type": "code",
   "execution_count": 17,
   "metadata": {
    "collapsed": false
   },
   "outputs": [],
   "source": [
    "meta_tooutput = pd.DataFrame(meta.primaryspaceuse_abbrev+\",\"+meta.usagecategory+\",\"+meta.operationsgroup)"
   ]
  },
  {
   "cell_type": "code",
   "execution_count": 18,
   "metadata": {
    "collapsed": false
   },
   "outputs": [
    {
     "data": {
      "text/html": [
       "<div>\n",
       "<table border=\"1\" class=\"dataframe\">\n",
       "  <thead>\n",
       "    <tr style=\"text-align: right;\">\n",
       "      <th></th>\n",
       "      <th>0</th>\n",
       "    </tr>\n",
       "    <tr>\n",
       "      <th>uid</th>\n",
       "      <th></th>\n",
       "    </tr>\n",
       "  </thead>\n",
       "  <tbody>\n",
       "    <tr>\n",
       "      <th>PrimClass_Everett</th>\n",
       "      <td>PrimClass,Low,Misc</td>\n",
       "    </tr>\n",
       "    <tr>\n",
       "      <th>UnivClass_Clifford</th>\n",
       "      <td>UnivClass,Low,Group3</td>\n",
       "    </tr>\n",
       "    <tr>\n",
       "      <th>Office_Elizabeth</th>\n",
       "      <td>Office,Low,Misc</td>\n",
       "    </tr>\n",
       "    <tr>\n",
       "      <th>Office_Ellie</th>\n",
       "      <td>Office,Low,Misc</td>\n",
       "    </tr>\n",
       "    <tr>\n",
       "      <th>PrimClass_Elisabeth</th>\n",
       "      <td>PrimClass,Low,Misc</td>\n",
       "    </tr>\n",
       "  </tbody>\n",
       "</table>\n",
       "</div>"
      ],
      "text/plain": [
       "                                        0\n",
       "uid                                      \n",
       "PrimClass_Everett      PrimClass,Low,Misc\n",
       "UnivClass_Clifford   UnivClass,Low,Group3\n",
       "Office_Elizabeth          Office,Low,Misc\n",
       "Office_Ellie              Office,Low,Misc\n",
       "PrimClass_Elisabeth    PrimClass,Low,Misc"
      ]
     },
     "execution_count": 18,
     "metadata": {},
     "output_type": "execute_result"
    }
   ],
   "source": [
    "meta_tooutput.head()"
   ]
  },
  {
   "cell_type": "code",
   "execution_count": 19,
   "metadata": {
    "collapsed": false
   },
   "outputs": [],
   "source": [
    "meta_tooutput['outputfile'] = meta_tooutput.index+\".dat\""
   ]
  },
  {
   "cell_type": "code",
   "execution_count": 20,
   "metadata": {
    "collapsed": false
   },
   "outputs": [],
   "source": [
    "meta_tooutput.index = meta_tooutput.outputfile"
   ]
  },
  {
   "cell_type": "code",
   "execution_count": 21,
   "metadata": {
    "collapsed": false
   },
   "outputs": [
    {
     "data": {
      "text/html": [
       "<div>\n",
       "<table border=\"1\" class=\"dataframe\">\n",
       "  <thead>\n",
       "    <tr style=\"text-align: right;\">\n",
       "      <th></th>\n",
       "      <th>0</th>\n",
       "      <th>outputfile</th>\n",
       "    </tr>\n",
       "    <tr>\n",
       "      <th>outputfile</th>\n",
       "      <th></th>\n",
       "      <th></th>\n",
       "    </tr>\n",
       "  </thead>\n",
       "  <tbody>\n",
       "    <tr>\n",
       "      <th>PrimClass_Everett.dat</th>\n",
       "      <td>PrimClass,Low,Misc</td>\n",
       "      <td>PrimClass_Everett.dat</td>\n",
       "    </tr>\n",
       "    <tr>\n",
       "      <th>UnivClass_Clifford.dat</th>\n",
       "      <td>UnivClass,Low,Group3</td>\n",
       "      <td>UnivClass_Clifford.dat</td>\n",
       "    </tr>\n",
       "    <tr>\n",
       "      <th>Office_Elizabeth.dat</th>\n",
       "      <td>Office,Low,Misc</td>\n",
       "      <td>Office_Elizabeth.dat</td>\n",
       "    </tr>\n",
       "    <tr>\n",
       "      <th>Office_Ellie.dat</th>\n",
       "      <td>Office,Low,Misc</td>\n",
       "      <td>Office_Ellie.dat</td>\n",
       "    </tr>\n",
       "    <tr>\n",
       "      <th>PrimClass_Elisabeth.dat</th>\n",
       "      <td>PrimClass,Low,Misc</td>\n",
       "      <td>PrimClass_Elisabeth.dat</td>\n",
       "    </tr>\n",
       "  </tbody>\n",
       "</table>\n",
       "</div>"
      ],
      "text/plain": [
       "                                            0               outputfile\n",
       "outputfile                                                            \n",
       "PrimClass_Everett.dat      PrimClass,Low,Misc    PrimClass_Everett.dat\n",
       "UnivClass_Clifford.dat   UnivClass,Low,Group3   UnivClass_Clifford.dat\n",
       "Office_Elizabeth.dat          Office,Low,Misc     Office_Elizabeth.dat\n",
       "Office_Ellie.dat              Office,Low,Misc         Office_Ellie.dat\n",
       "PrimClass_Elisabeth.dat    PrimClass,Low,Misc  PrimClass_Elisabeth.dat"
      ]
     },
     "execution_count": 21,
     "metadata": {},
     "output_type": "execute_result"
    }
   ],
   "source": [
    "meta_tooutput.head()"
   ]
  },
  {
   "cell_type": "code",
   "execution_count": 22,
   "metadata": {
    "collapsed": true
   },
   "outputs": [],
   "source": [
    "meta_tooutput = meta_tooutput[0]"
   ]
  },
  {
   "cell_type": "code",
   "execution_count": 23,
   "metadata": {
    "collapsed": false
   },
   "outputs": [],
   "source": [
    "#meta_tooutput"
   ]
  },
  {
   "cell_type": "code",
   "execution_count": 24,
   "metadata": {
    "collapsed": false
   },
   "outputs": [],
   "source": [
    "meta_tooutput.to_csv(\"/Users/Clayton/hctsa/TimeSeries/INP_buildinggenome.txt\",sep=\" \", header=False)"
   ]
  },
  {
   "cell_type": "markdown",
   "metadata": {},
   "source": [
    "Make temp files"
   ]
  },
  {
   "cell_type": "code",
   "execution_count": 25,
   "metadata": {
    "collapsed": true
   },
   "outputs": [],
   "source": [
    "buildinglist = list(meta.index)"
   ]
  },
  {
   "cell_type": "code",
   "execution_count": 26,
   "metadata": {
    "collapsed": false
   },
   "outputs": [],
   "source": [
    "# for buildingname in buildinglist:\n",
    "#     print buildingname\n",
    "#     temp[buildingname].dropna().to_csv(\"/Users/Clayton/hctsa/TimeSeries/\"+buildingname+\".dat\",header=False, index=False)"
   ]
  },
  {
   "cell_type": "markdown",
   "metadata": {},
   "source": [
    "# Make files that are similar to the output files from the hctsa to create the same visualizations"
   ]
  },
  {
   "cell_type": "code",
   "execution_count": 52,
   "metadata": {
    "collapsed": false
   },
   "outputs": [],
   "source": [
    "features = pd.read_csv(os.path.join(repos_path, \"data/processed/ALLFEATURES_meta_labelled.CSV\"), index_col=\"feature_name\")"
   ]
  },
  {
   "cell_type": "code",
   "execution_count": 53,
   "metadata": {
    "collapsed": false
   },
   "outputs": [
    {
     "name": "stdout",
     "output_type": "stream",
     "text": [
      "<class 'pandas.core.frame.DataFrame'>\n",
      "Index: 315 entries, BG_all_meanvs95_max to BG_consumpstats_t90t\n",
      "Data columns (total 4 columns):\n",
      "feature_type                315 non-null object\n",
      "usetype_applicable          315 non-null object\n",
      "constype_applicable         315 non-null object\n",
      "operationtype_applicable    315 non-null object\n",
      "dtypes: object(4)\n",
      "memory usage: 12.3+ KB\n"
     ]
    }
   ],
   "source": [
    "features.info()"
   ]
  },
  {
   "cell_type": "code",
   "execution_count": 54,
   "metadata": {
    "collapsed": false
   },
   "outputs": [
    {
     "data": {
      "text/plain": [
       "Index([u'BG_all_meanvs95_max', u'BG_all_meanvs95_mean', u'BG_all_meanvs95_min',\n",
       "       u'BG_all_meanvs95_std', u'BG_all_meanvsmax_max',\n",
       "       u'BG_all_meanvsmax_mean', u'BG_all_meanvsmax_min',\n",
       "       u'BG_all_meanvsmax_std', u'BG_all_minvs95_max', u'BG_all_minvs95_mean',\n",
       "       ...\n",
       "       u'BG_consumpstats_kwtotalMar', u'BG_consumpstats_kwtotalMay',\n",
       "       u'BG_consumpstats_kwtotalNov', u'BG_consumpstats_kwtotalOct',\n",
       "       u'BG_consumpstats_kwtotalSep', u'BG_consumpstats_kwvarsummer',\n",
       "       u'BG_consumpstats_kwvarwinter', u'BG_consumpstats_maxhrdate',\n",
       "       u'BG_consumpstats_t10t', u'BG_consumpstats_t90t'],\n",
       "      dtype='object', name=u'feature_name', length=315)"
      ]
     },
     "execution_count": 54,
     "metadata": {},
     "output_type": "execute_result"
    }
   ],
   "source": [
    "features.T.columns"
   ]
  },
  {
   "cell_type": "code",
   "execution_count": 55,
   "metadata": {
    "collapsed": true
   },
   "outputs": [],
   "source": [
    "operations = pd.DataFrame(features.T.columns)"
   ]
  },
  {
   "cell_type": "code",
   "execution_count": 56,
   "metadata": {
    "collapsed": false
   },
   "outputs": [
    {
     "data": {
      "text/html": [
       "<div>\n",
       "<table border=\"1\" class=\"dataframe\">\n",
       "  <thead>\n",
       "    <tr style=\"text-align: right;\">\n",
       "      <th></th>\n",
       "      <th>feature_name</th>\n",
       "    </tr>\n",
       "  </thead>\n",
       "  <tbody>\n",
       "    <tr>\n",
       "      <th>0</th>\n",
       "      <td>BG_all_meanvs95_max</td>\n",
       "    </tr>\n",
       "    <tr>\n",
       "      <th>1</th>\n",
       "      <td>BG_all_meanvs95_mean</td>\n",
       "    </tr>\n",
       "    <tr>\n",
       "      <th>2</th>\n",
       "      <td>BG_all_meanvs95_min</td>\n",
       "    </tr>\n",
       "    <tr>\n",
       "      <th>3</th>\n",
       "      <td>BG_all_meanvs95_std</td>\n",
       "    </tr>\n",
       "    <tr>\n",
       "      <th>4</th>\n",
       "      <td>BG_all_meanvsmax_max</td>\n",
       "    </tr>\n",
       "  </tbody>\n",
       "</table>\n",
       "</div>"
      ],
      "text/plain": [
       "           feature_name\n",
       "0   BG_all_meanvs95_max\n",
       "1  BG_all_meanvs95_mean\n",
       "2   BG_all_meanvs95_min\n",
       "3   BG_all_meanvs95_std\n",
       "4  BG_all_meanvsmax_max"
      ]
     },
     "execution_count": 56,
     "metadata": {},
     "output_type": "execute_result"
    }
   ],
   "source": [
    "operations.head()"
   ]
  },
  {
   "cell_type": "code",
   "execution_count": 57,
   "metadata": {
    "collapsed": false
   },
   "outputs": [
    {
     "name": "stdout",
     "output_type": "stream",
     "text": [
      "<class 'pandas.core.frame.DataFrame'>\n",
      "Index: 315 entries, BG_all_meanvs95_max to BG_consumpstats_t90t\n",
      "Data columns (total 4 columns):\n",
      "feature_type                315 non-null object\n",
      "usetype_applicable          315 non-null object\n",
      "constype_applicable         315 non-null object\n",
      "operationtype_applicable    315 non-null object\n",
      "dtypes: object(4)\n",
      "memory usage: 12.3+ KB\n"
     ]
    }
   ],
   "source": [
    "features.info()"
   ]
  },
  {
   "cell_type": "code",
   "execution_count": 58,
   "metadata": {
    "collapsed": false
   },
   "outputs": [],
   "source": [
    "operations.index = features.index\n",
    "operations['keywords'] = features.feature_type+\",\"+features.usetype_applicable+\",\"+features.constype_applicable+\",\"+features.operationtype_applicable"
   ]
  },
  {
   "cell_type": "code",
   "execution_count": 59,
   "metadata": {
    "collapsed": false
   },
   "outputs": [
    {
     "name": "stdout",
     "output_type": "stream",
     "text": [
      "<class 'pandas.core.frame.DataFrame'>\n",
      "Index: 315 entries, BG_all_meanvs95_max to BG_consumpstats_t90t\n",
      "Data columns (total 2 columns):\n",
      "feature_name    315 non-null object\n",
      "keywords        315 non-null object\n",
      "dtypes: object(2)\n",
      "memory usage: 7.4+ KB\n"
     ]
    }
   ],
   "source": [
    "operations.info()"
   ]
  },
  {
   "cell_type": "code",
   "execution_count": 60,
   "metadata": {
    "collapsed": false
   },
   "outputs": [],
   "source": [
    "# operations = pd.DataFrame(operations.str.replace('[^\\w\\s]',''))"
   ]
  },
  {
   "cell_type": "code",
   "execution_count": 64,
   "metadata": {
    "collapsed": false
   },
   "outputs": [],
   "source": [
    "#features.feature_type+\",\"+features.usetype_applicable+\",\"+features.constype_applicable+\",\"+features.operationtype_applicable"
   ]
  },
  {
   "cell_type": "code",
   "execution_count": 67,
   "metadata": {
    "collapsed": false
   },
   "outputs": [],
   "source": [
    "operations.index.name = \"index\"\n",
    "operations = operations.reset_index()"
   ]
  },
  {
   "cell_type": "code",
   "execution_count": 68,
   "metadata": {
    "collapsed": false
   },
   "outputs": [
    {
     "data": {
      "text/html": [
       "<div>\n",
       "<table border=\"1\" class=\"dataframe\">\n",
       "  <thead>\n",
       "    <tr style=\"text-align: right;\">\n",
       "      <th></th>\n",
       "      <th>index</th>\n",
       "      <th>feature_name</th>\n",
       "      <th>keywords</th>\n",
       "    </tr>\n",
       "  </thead>\n",
       "  <tbody>\n",
       "    <tr>\n",
       "      <th>0</th>\n",
       "      <td>BG_all_meanvs95_max</td>\n",
       "      <td>BG_all_meanvs95_max</td>\n",
       "      <td>dailyratios,usetype,constype,operationtype</td>\n",
       "    </tr>\n",
       "    <tr>\n",
       "      <th>1</th>\n",
       "      <td>BG_all_meanvs95_mean</td>\n",
       "      <td>BG_all_meanvs95_mean</td>\n",
       "      <td>dailyratios,usetype,constype,operationtype</td>\n",
       "    </tr>\n",
       "    <tr>\n",
       "      <th>2</th>\n",
       "      <td>BG_all_meanvs95_min</td>\n",
       "      <td>BG_all_meanvs95_min</td>\n",
       "      <td>dailyratios,usetype,constype,operationtype</td>\n",
       "    </tr>\n",
       "    <tr>\n",
       "      <th>3</th>\n",
       "      <td>BG_all_meanvs95_std</td>\n",
       "      <td>BG_all_meanvs95_std</td>\n",
       "      <td>dailyratios,usetype,constype,operationtype</td>\n",
       "    </tr>\n",
       "    <tr>\n",
       "      <th>4</th>\n",
       "      <td>BG_all_meanvsmax_max</td>\n",
       "      <td>BG_all_meanvsmax_max</td>\n",
       "      <td>dailyratios,usetype,constype,operationtype</td>\n",
       "    </tr>\n",
       "  </tbody>\n",
       "</table>\n",
       "</div>"
      ],
      "text/plain": [
       "                  index          feature_name  \\\n",
       "0   BG_all_meanvs95_max   BG_all_meanvs95_max   \n",
       "1  BG_all_meanvs95_mean  BG_all_meanvs95_mean   \n",
       "2   BG_all_meanvs95_min   BG_all_meanvs95_min   \n",
       "3   BG_all_meanvs95_std   BG_all_meanvs95_std   \n",
       "4  BG_all_meanvsmax_max  BG_all_meanvsmax_max   \n",
       "\n",
       "                                     keywords  \n",
       "0  dailyratios,usetype,constype,operationtype  \n",
       "1  dailyratios,usetype,constype,operationtype  \n",
       "2  dailyratios,usetype,constype,operationtype  \n",
       "3  dailyratios,usetype,constype,operationtype  \n",
       "4  dailyratios,usetype,constype,operationtype  "
      ]
     },
     "execution_count": 68,
     "metadata": {},
     "output_type": "execute_result"
    }
   ],
   "source": [
    "operations.head()"
   ]
  },
  {
   "cell_type": "code",
   "execution_count": 69,
   "metadata": {
    "collapsed": false
   },
   "outputs": [],
   "source": [
    "operations.to_csv(\"/Users/Clayton/hctsa/Database/INP_allbg_ops.txt\", header=False, index=False, sep=\" \")"
   ]
  },
  {
   "cell_type": "code",
   "execution_count": 70,
   "metadata": {
    "collapsed": false
   },
   "outputs": [],
   "source": [
    "operations.index.name = \"features\""
   ]
  },
  {
   "cell_type": "code",
   "execution_count": 71,
   "metadata": {
    "collapsed": false
   },
   "outputs": [],
   "source": [
    "masteroperations = pd.DataFrame(operations.feature_name)"
   ]
  },
  {
   "cell_type": "code",
   "execution_count": 72,
   "metadata": {
    "collapsed": false
   },
   "outputs": [],
   "source": [
    "masteroperations = masteroperations.reset_index()\n",
    "masteroperations = masteroperations.reset_index()"
   ]
  },
  {
   "cell_type": "code",
   "execution_count": 73,
   "metadata": {
    "collapsed": false
   },
   "outputs": [],
   "source": [
    "masteroperations[0] = masteroperations[\"index\"].apply(lambda x: \"AllBGOperations(y,\"+str(x)+\")\")"
   ]
  },
  {
   "cell_type": "code",
   "execution_count": 74,
   "metadata": {
    "collapsed": false
   },
   "outputs": [],
   "source": [
    "#masteroperations"
   ]
  },
  {
   "cell_type": "code",
   "execution_count": 75,
   "metadata": {
    "collapsed": false
   },
   "outputs": [],
   "source": [
    "masteroperations = masteroperations.drop(['features','index'],axis=1)"
   ]
  },
  {
   "cell_type": "code",
   "execution_count": 76,
   "metadata": {
    "collapsed": true
   },
   "outputs": [],
   "source": [
    "masteroperations = masteroperations[[0,'feature_name']]"
   ]
  },
  {
   "cell_type": "code",
   "execution_count": 77,
   "metadata": {
    "collapsed": false
   },
   "outputs": [
    {
     "data": {
      "text/html": [
       "<div>\n",
       "<table border=\"1\" class=\"dataframe\">\n",
       "  <thead>\n",
       "    <tr style=\"text-align: right;\">\n",
       "      <th></th>\n",
       "      <th>0</th>\n",
       "      <th>feature_name</th>\n",
       "    </tr>\n",
       "  </thead>\n",
       "  <tbody>\n",
       "    <tr>\n",
       "      <th>0</th>\n",
       "      <td>AllBGOperations(y,0)</td>\n",
       "      <td>BG_all_meanvs95_max</td>\n",
       "    </tr>\n",
       "    <tr>\n",
       "      <th>1</th>\n",
       "      <td>AllBGOperations(y,1)</td>\n",
       "      <td>BG_all_meanvs95_mean</td>\n",
       "    </tr>\n",
       "    <tr>\n",
       "      <th>2</th>\n",
       "      <td>AllBGOperations(y,2)</td>\n",
       "      <td>BG_all_meanvs95_min</td>\n",
       "    </tr>\n",
       "    <tr>\n",
       "      <th>3</th>\n",
       "      <td>AllBGOperations(y,3)</td>\n",
       "      <td>BG_all_meanvs95_std</td>\n",
       "    </tr>\n",
       "    <tr>\n",
       "      <th>4</th>\n",
       "      <td>AllBGOperations(y,4)</td>\n",
       "      <td>BG_all_meanvsmax_max</td>\n",
       "    </tr>\n",
       "  </tbody>\n",
       "</table>\n",
       "</div>"
      ],
      "text/plain": [
       "                      0          feature_name\n",
       "0  AllBGOperations(y,0)   BG_all_meanvs95_max\n",
       "1  AllBGOperations(y,1)  BG_all_meanvs95_mean\n",
       "2  AllBGOperations(y,2)   BG_all_meanvs95_min\n",
       "3  AllBGOperations(y,3)   BG_all_meanvs95_std\n",
       "4  AllBGOperations(y,4)  BG_all_meanvsmax_max"
      ]
     },
     "execution_count": 77,
     "metadata": {},
     "output_type": "execute_result"
    }
   ],
   "source": [
    "masteroperations.head()"
   ]
  },
  {
   "cell_type": "code",
   "execution_count": 78,
   "metadata": {
    "collapsed": false
   },
   "outputs": [],
   "source": [
    "masteroperations.to_csv(\"/Users/Clayton/hctsa/Database/INP_allbg_mops.txt\", header=False, index=False, sep=\" \")"
   ]
  },
  {
   "cell_type": "markdown",
   "metadata": {},
   "source": [
    "# Create a dummy `TS_Quality` matrix"
   ]
  },
  {
   "cell_type": "code",
   "execution_count": 144,
   "metadata": {
    "collapsed": false
   },
   "outputs": [],
   "source": [
    "TS_Quality = pd.DataFrame(0, index=np.arange(507), columns=np.arange(315))"
   ]
  },
  {
   "cell_type": "code",
   "execution_count": 157,
   "metadata": {
    "collapsed": false
   },
   "outputs": [
    {
     "data": {
      "text/html": [
       "<div>\n",
       "<table border=\"1\" class=\"dataframe\">\n",
       "  <thead>\n",
       "    <tr style=\"text-align: right;\">\n",
       "      <th></th>\n",
       "      <th>0</th>\n",
       "      <th>1</th>\n",
       "      <th>2</th>\n",
       "      <th>3</th>\n",
       "      <th>4</th>\n",
       "      <th>5</th>\n",
       "      <th>6</th>\n",
       "      <th>7</th>\n",
       "      <th>8</th>\n",
       "      <th>9</th>\n",
       "      <th>...</th>\n",
       "      <th>305</th>\n",
       "      <th>306</th>\n",
       "      <th>307</th>\n",
       "      <th>308</th>\n",
       "      <th>309</th>\n",
       "      <th>310</th>\n",
       "      <th>311</th>\n",
       "      <th>312</th>\n",
       "      <th>313</th>\n",
       "      <th>314</th>\n",
       "    </tr>\n",
       "  </thead>\n",
       "  <tbody>\n",
       "    <tr>\n",
       "      <th>0</th>\n",
       "      <td>0</td>\n",
       "      <td>0</td>\n",
       "      <td>0</td>\n",
       "      <td>0</td>\n",
       "      <td>0</td>\n",
       "      <td>0</td>\n",
       "      <td>0</td>\n",
       "      <td>0</td>\n",
       "      <td>0</td>\n",
       "      <td>0</td>\n",
       "      <td>...</td>\n",
       "      <td>0</td>\n",
       "      <td>0</td>\n",
       "      <td>0</td>\n",
       "      <td>0</td>\n",
       "      <td>0</td>\n",
       "      <td>0</td>\n",
       "      <td>0</td>\n",
       "      <td>0</td>\n",
       "      <td>0</td>\n",
       "      <td>0</td>\n",
       "    </tr>\n",
       "    <tr>\n",
       "      <th>1</th>\n",
       "      <td>0</td>\n",
       "      <td>0</td>\n",
       "      <td>0</td>\n",
       "      <td>0</td>\n",
       "      <td>0</td>\n",
       "      <td>0</td>\n",
       "      <td>0</td>\n",
       "      <td>0</td>\n",
       "      <td>0</td>\n",
       "      <td>0</td>\n",
       "      <td>...</td>\n",
       "      <td>0</td>\n",
       "      <td>0</td>\n",
       "      <td>0</td>\n",
       "      <td>0</td>\n",
       "      <td>0</td>\n",
       "      <td>0</td>\n",
       "      <td>0</td>\n",
       "      <td>0</td>\n",
       "      <td>0</td>\n",
       "      <td>0</td>\n",
       "    </tr>\n",
       "    <tr>\n",
       "      <th>2</th>\n",
       "      <td>0</td>\n",
       "      <td>0</td>\n",
       "      <td>0</td>\n",
       "      <td>0</td>\n",
       "      <td>0</td>\n",
       "      <td>0</td>\n",
       "      <td>0</td>\n",
       "      <td>0</td>\n",
       "      <td>0</td>\n",
       "      <td>0</td>\n",
       "      <td>...</td>\n",
       "      <td>0</td>\n",
       "      <td>0</td>\n",
       "      <td>0</td>\n",
       "      <td>0</td>\n",
       "      <td>0</td>\n",
       "      <td>0</td>\n",
       "      <td>0</td>\n",
       "      <td>0</td>\n",
       "      <td>0</td>\n",
       "      <td>0</td>\n",
       "    </tr>\n",
       "    <tr>\n",
       "      <th>3</th>\n",
       "      <td>0</td>\n",
       "      <td>0</td>\n",
       "      <td>0</td>\n",
       "      <td>0</td>\n",
       "      <td>0</td>\n",
       "      <td>0</td>\n",
       "      <td>0</td>\n",
       "      <td>0</td>\n",
       "      <td>0</td>\n",
       "      <td>0</td>\n",
       "      <td>...</td>\n",
       "      <td>0</td>\n",
       "      <td>0</td>\n",
       "      <td>0</td>\n",
       "      <td>0</td>\n",
       "      <td>0</td>\n",
       "      <td>0</td>\n",
       "      <td>0</td>\n",
       "      <td>0</td>\n",
       "      <td>0</td>\n",
       "      <td>0</td>\n",
       "    </tr>\n",
       "    <tr>\n",
       "      <th>4</th>\n",
       "      <td>0</td>\n",
       "      <td>0</td>\n",
       "      <td>0</td>\n",
       "      <td>0</td>\n",
       "      <td>0</td>\n",
       "      <td>0</td>\n",
       "      <td>0</td>\n",
       "      <td>0</td>\n",
       "      <td>0</td>\n",
       "      <td>0</td>\n",
       "      <td>...</td>\n",
       "      <td>0</td>\n",
       "      <td>0</td>\n",
       "      <td>0</td>\n",
       "      <td>0</td>\n",
       "      <td>0</td>\n",
       "      <td>0</td>\n",
       "      <td>0</td>\n",
       "      <td>0</td>\n",
       "      <td>0</td>\n",
       "      <td>0</td>\n",
       "    </tr>\n",
       "  </tbody>\n",
       "</table>\n",
       "<p>5 rows × 315 columns</p>\n",
       "</div>"
      ],
      "text/plain": [
       "   0    1    2    3    4    5    6    7    8    9   ...   305  306  307  308  \\\n",
       "0    0    0    0    0    0    0    0    0    0    0 ...     0    0    0    0   \n",
       "1    0    0    0    0    0    0    0    0    0    0 ...     0    0    0    0   \n",
       "2    0    0    0    0    0    0    0    0    0    0 ...     0    0    0    0   \n",
       "3    0    0    0    0    0    0    0    0    0    0 ...     0    0    0    0   \n",
       "4    0    0    0    0    0    0    0    0    0    0 ...     0    0    0    0   \n",
       "\n",
       "   309  310  311  312  313  314  \n",
       "0    0    0    0    0    0    0  \n",
       "1    0    0    0    0    0    0  \n",
       "2    0    0    0    0    0    0  \n",
       "3    0    0    0    0    0    0  \n",
       "4    0    0    0    0    0    0  \n",
       "\n",
       "[5 rows x 315 columns]"
      ]
     },
     "execution_count": 157,
     "metadata": {},
     "output_type": "execute_result"
    }
   ],
   "source": [
    "TS_Quality.head()"
   ]
  },
  {
   "cell_type": "code",
   "execution_count": 146,
   "metadata": {
    "collapsed": true
   },
   "outputs": [],
   "source": [
    "TS_Quality.to_csv(\"/Users/Clayton/hctsa/TS_QualityDummy.txt\", header=False, index=False)"
   ]
  },
  {
   "cell_type": "markdown",
   "metadata": {
    "collapsed": true
   },
   "source": [
    "# Add Features Matrix to hctsa home folder"
   ]
  },
  {
   "cell_type": "code",
   "execution_count": 149,
   "metadata": {
    "collapsed": true
   },
   "outputs": [],
   "source": [
    "features_data = pd.read_csv(os.path.join(repos_path, \"data/processed/ALLFEATURES.CSV\"), index_col='Unnamed: 0')"
   ]
  },
  {
   "cell_type": "code",
   "execution_count": 152,
   "metadata": {
    "collapsed": false
   },
   "outputs": [
    {
     "name": "stdout",
     "output_type": "stream",
     "text": [
      "<class 'pandas.core.frame.DataFrame'>\n",
      "Index: 507 entries, Office_Abbey to UnivLab_Tracy\n",
      "Columns: 315 entries, BG_all_meanvs95_max to BG_weekend_minvsmax_std\n",
      "dtypes: float64(315)\n",
      "memory usage: 1.2+ MB\n"
     ]
    }
   ],
   "source": [
    "features_data.info()"
   ]
  },
  {
   "cell_type": "code",
   "execution_count": 153,
   "metadata": {
    "collapsed": false
   },
   "outputs": [
    {
     "data": {
      "text/html": [
       "<div>\n",
       "<table border=\"1\" class=\"dataframe\">\n",
       "  <thead>\n",
       "    <tr style=\"text-align: right;\">\n",
       "      <th></th>\n",
       "      <th>BG_all_meanvs95_max</th>\n",
       "      <th>BG_all_meanvs95_mean</th>\n",
       "      <th>BG_all_meanvs95_min</th>\n",
       "      <th>BG_all_meanvs95_std</th>\n",
       "      <th>BG_all_meanvsmax_max</th>\n",
       "      <th>BG_all_meanvsmax_mean</th>\n",
       "      <th>BG_all_meanvsmax_min</th>\n",
       "      <th>BG_all_meanvsmax_std</th>\n",
       "      <th>BG_all_minvs95_max</th>\n",
       "      <th>BG_all_minvs95_mean</th>\n",
       "      <th>...</th>\n",
       "      <th>BG_weekend_meanvsmax_min</th>\n",
       "      <th>BG_weekend_meanvsmax_std</th>\n",
       "      <th>BG_weekend_minvs95_max</th>\n",
       "      <th>BG_weekend_minvs95_mean</th>\n",
       "      <th>BG_weekend_minvs95_min</th>\n",
       "      <th>BG_weekend_minvs95_std</th>\n",
       "      <th>BG_weekend_minvsmax_max</th>\n",
       "      <th>BG_weekend_minvsmax_mean</th>\n",
       "      <th>BG_weekend_minvsmax_min</th>\n",
       "      <th>BG_weekend_minvsmax_std</th>\n",
       "    </tr>\n",
       "  </thead>\n",
       "  <tbody>\n",
       "    <tr>\n",
       "      <th>Office_Abbey</th>\n",
       "      <td>0.991726</td>\n",
       "      <td>0.830303</td>\n",
       "      <td>0.553791</td>\n",
       "      <td>0.087306</td>\n",
       "      <td>0.989658</td>\n",
       "      <td>0.813128</td>\n",
       "      <td>0.549331</td>\n",
       "      <td>0.083906</td>\n",
       "      <td>0.981362</td>\n",
       "      <td>0.467952</td>\n",
       "      <td>...</td>\n",
       "      <td>0.657953</td>\n",
       "      <td>0.074334</td>\n",
       "      <td>0.844232</td>\n",
       "      <td>0.548659</td>\n",
       "      <td>0.346082</td>\n",
       "      <td>0.112044</td>\n",
       "      <td>0.819727</td>\n",
       "      <td>0.529841</td>\n",
       "      <td>0.341704</td>\n",
       "      <td>0.107213</td>\n",
       "    </tr>\n",
       "    <tr>\n",
       "      <th>Office_Abigail</th>\n",
       "      <td>0.980135</td>\n",
       "      <td>0.681228</td>\n",
       "      <td>0.416167</td>\n",
       "      <td>0.110767</td>\n",
       "      <td>0.975904</td>\n",
       "      <td>0.633933</td>\n",
       "      <td>0.352372</td>\n",
       "      <td>0.114302</td>\n",
       "      <td>0.949884</td>\n",
       "      <td>0.463794</td>\n",
       "      <td>...</td>\n",
       "      <td>0.371951</td>\n",
       "      <td>0.109452</td>\n",
       "      <td>0.949884</td>\n",
       "      <td>0.576688</td>\n",
       "      <td>0.298951</td>\n",
       "      <td>0.171996</td>\n",
       "      <td>0.945783</td>\n",
       "      <td>0.538858</td>\n",
       "      <td>0.278862</td>\n",
       "      <td>0.171697</td>\n",
       "    </tr>\n",
       "    <tr>\n",
       "      <th>Office_Al</th>\n",
       "      <td>0.976661</td>\n",
       "      <td>0.736467</td>\n",
       "      <td>0.504575</td>\n",
       "      <td>0.098615</td>\n",
       "      <td>0.953896</td>\n",
       "      <td>0.719658</td>\n",
       "      <td>0.497427</td>\n",
       "      <td>0.085458</td>\n",
       "      <td>0.899811</td>\n",
       "      <td>0.515810</td>\n",
       "      <td>...</td>\n",
       "      <td>0.633915</td>\n",
       "      <td>0.068949</td>\n",
       "      <td>0.899811</td>\n",
       "      <td>0.682016</td>\n",
       "      <td>0.503914</td>\n",
       "      <td>0.100446</td>\n",
       "      <td>0.872625</td>\n",
       "      <td>0.653404</td>\n",
       "      <td>0.486708</td>\n",
       "      <td>0.103666</td>\n",
       "    </tr>\n",
       "    <tr>\n",
       "      <th>Office_Alannah</th>\n",
       "      <td>0.967693</td>\n",
       "      <td>0.676260</td>\n",
       "      <td>0.399966</td>\n",
       "      <td>0.109274</td>\n",
       "      <td>0.956716</td>\n",
       "      <td>0.633928</td>\n",
       "      <td>0.324200</td>\n",
       "      <td>0.119918</td>\n",
       "      <td>0.783483</td>\n",
       "      <td>0.364965</td>\n",
       "      <td>...</td>\n",
       "      <td>0.403110</td>\n",
       "      <td>0.125101</td>\n",
       "      <td>0.783483</td>\n",
       "      <td>0.369298</td>\n",
       "      <td>0.116253</td>\n",
       "      <td>0.117151</td>\n",
       "      <td>0.780458</td>\n",
       "      <td>0.353199</td>\n",
       "      <td>0.107352</td>\n",
       "      <td>0.113517</td>\n",
       "    </tr>\n",
       "    <tr>\n",
       "      <th>Office_Aliyah</th>\n",
       "      <td>0.991130</td>\n",
       "      <td>0.905865</td>\n",
       "      <td>0.813399</td>\n",
       "      <td>0.042771</td>\n",
       "      <td>0.989721</td>\n",
       "      <td>0.899784</td>\n",
       "      <td>0.807132</td>\n",
       "      <td>0.042884</td>\n",
       "      <td>0.964982</td>\n",
       "      <td>0.780943</td>\n",
       "      <td>...</td>\n",
       "      <td>0.905349</td>\n",
       "      <td>0.013881</td>\n",
       "      <td>0.914196</td>\n",
       "      <td>0.872756</td>\n",
       "      <td>0.738899</td>\n",
       "      <td>0.025416</td>\n",
       "      <td>0.908976</td>\n",
       "      <td>0.867061</td>\n",
       "      <td>0.737593</td>\n",
       "      <td>0.025648</td>\n",
       "    </tr>\n",
       "  </tbody>\n",
       "</table>\n",
       "<p>5 rows × 315 columns</p>\n",
       "</div>"
      ],
      "text/plain": [
       "                BG_all_meanvs95_max  BG_all_meanvs95_mean  \\\n",
       "Office_Abbey               0.991726              0.830303   \n",
       "Office_Abigail             0.980135              0.681228   \n",
       "Office_Al                  0.976661              0.736467   \n",
       "Office_Alannah             0.967693              0.676260   \n",
       "Office_Aliyah              0.991130              0.905865   \n",
       "\n",
       "                BG_all_meanvs95_min  BG_all_meanvs95_std  \\\n",
       "Office_Abbey               0.553791             0.087306   \n",
       "Office_Abigail             0.416167             0.110767   \n",
       "Office_Al                  0.504575             0.098615   \n",
       "Office_Alannah             0.399966             0.109274   \n",
       "Office_Aliyah              0.813399             0.042771   \n",
       "\n",
       "                BG_all_meanvsmax_max  BG_all_meanvsmax_mean  \\\n",
       "Office_Abbey                0.989658               0.813128   \n",
       "Office_Abigail              0.975904               0.633933   \n",
       "Office_Al                   0.953896               0.719658   \n",
       "Office_Alannah              0.956716               0.633928   \n",
       "Office_Aliyah               0.989721               0.899784   \n",
       "\n",
       "                BG_all_meanvsmax_min  BG_all_meanvsmax_std  \\\n",
       "Office_Abbey                0.549331              0.083906   \n",
       "Office_Abigail              0.352372              0.114302   \n",
       "Office_Al                   0.497427              0.085458   \n",
       "Office_Alannah              0.324200              0.119918   \n",
       "Office_Aliyah               0.807132              0.042884   \n",
       "\n",
       "                BG_all_minvs95_max  BG_all_minvs95_mean  \\\n",
       "Office_Abbey              0.981362             0.467952   \n",
       "Office_Abigail            0.949884             0.463794   \n",
       "Office_Al                 0.899811             0.515810   \n",
       "Office_Alannah            0.783483             0.364965   \n",
       "Office_Aliyah             0.964982             0.780943   \n",
       "\n",
       "                         ...             BG_weekend_meanvsmax_min  \\\n",
       "Office_Abbey             ...                             0.657953   \n",
       "Office_Abigail           ...                             0.371951   \n",
       "Office_Al                ...                             0.633915   \n",
       "Office_Alannah           ...                             0.403110   \n",
       "Office_Aliyah            ...                             0.905349   \n",
       "\n",
       "                BG_weekend_meanvsmax_std  BG_weekend_minvs95_max  \\\n",
       "Office_Abbey                    0.074334                0.844232   \n",
       "Office_Abigail                  0.109452                0.949884   \n",
       "Office_Al                       0.068949                0.899811   \n",
       "Office_Alannah                  0.125101                0.783483   \n",
       "Office_Aliyah                   0.013881                0.914196   \n",
       "\n",
       "                BG_weekend_minvs95_mean  BG_weekend_minvs95_min  \\\n",
       "Office_Abbey                   0.548659                0.346082   \n",
       "Office_Abigail                 0.576688                0.298951   \n",
       "Office_Al                      0.682016                0.503914   \n",
       "Office_Alannah                 0.369298                0.116253   \n",
       "Office_Aliyah                  0.872756                0.738899   \n",
       "\n",
       "                BG_weekend_minvs95_std  BG_weekend_minvsmax_max  \\\n",
       "Office_Abbey                  0.112044                 0.819727   \n",
       "Office_Abigail                0.171996                 0.945783   \n",
       "Office_Al                     0.100446                 0.872625   \n",
       "Office_Alannah                0.117151                 0.780458   \n",
       "Office_Aliyah                 0.025416                 0.908976   \n",
       "\n",
       "                BG_weekend_minvsmax_mean  BG_weekend_minvsmax_min  \\\n",
       "Office_Abbey                    0.529841                 0.341704   \n",
       "Office_Abigail                  0.538858                 0.278862   \n",
       "Office_Al                       0.653404                 0.486708   \n",
       "Office_Alannah                  0.353199                 0.107352   \n",
       "Office_Aliyah                   0.867061                 0.737593   \n",
       "\n",
       "                BG_weekend_minvsmax_std  \n",
       "Office_Abbey                   0.107213  \n",
       "Office_Abigail                 0.171697  \n",
       "Office_Al                      0.103666  \n",
       "Office_Alannah                 0.113517  \n",
       "Office_Aliyah                  0.025648  \n",
       "\n",
       "[5 rows x 315 columns]"
      ]
     },
     "execution_count": 153,
     "metadata": {},
     "output_type": "execute_result"
    }
   ],
   "source": [
    "features_data.head()"
   ]
  },
  {
   "cell_type": "code",
   "execution_count": 154,
   "metadata": {
    "collapsed": true
   },
   "outputs": [],
   "source": [
    "features_data.to_csv(\"/Users/Clayton/hctsa/ALLFEATURES.txt\", header=False, index=False)"
   ]
  },
  {
   "cell_type": "code",
   "execution_count": 156,
   "metadata": {
    "collapsed": false
   },
   "outputs": [
    {
     "data": {
      "text/plain": [
       "Index([u'BG_all_meanvs95_max', u'BG_all_meanvs95_mean', u'BG_all_meanvs95_min',\n",
       "       u'BG_all_meanvs95_std', u'BG_all_meanvsmax_max',\n",
       "       u'BG_all_meanvsmax_mean', u'BG_all_meanvsmax_min',\n",
       "       u'BG_all_meanvsmax_std', u'BG_all_minvs95_max', u'BG_all_minvs95_mean',\n",
       "       ...\n",
       "       u'BG_weekend_meanvsmax_min', u'BG_weekend_meanvsmax_std',\n",
       "       u'BG_weekend_minvs95_max', u'BG_weekend_minvs95_mean',\n",
       "       u'BG_weekend_minvs95_min', u'BG_weekend_minvs95_std',\n",
       "       u'BG_weekend_minvsmax_max', u'BG_weekend_minvsmax_mean',\n",
       "       u'BG_weekend_minvsmax_min', u'BG_weekend_minvsmax_std'],\n",
       "      dtype='object', length=315)"
      ]
     },
     "execution_count": 156,
     "metadata": {},
     "output_type": "execute_result"
    }
   ],
   "source": [
    "features_data.columns"
   ]
  },
  {
   "cell_type": "code",
   "execution_count": 158,
   "metadata": {
    "collapsed": false
   },
   "outputs": [
    {
     "data": {
      "text/html": [
       "<div>\n",
       "<table border=\"1\" class=\"dataframe\">\n",
       "  <thead>\n",
       "    <tr style=\"text-align: right;\">\n",
       "      <th></th>\n",
       "      <th>0</th>\n",
       "      <th>feature_name</th>\n",
       "    </tr>\n",
       "  </thead>\n",
       "  <tbody>\n",
       "    <tr>\n",
       "      <th>0</th>\n",
       "      <td>AllBGOperations(y,0)</td>\n",
       "      <td>BG_all_meanvs95_max</td>\n",
       "    </tr>\n",
       "    <tr>\n",
       "      <th>1</th>\n",
       "      <td>AllBGOperations(y,1)</td>\n",
       "      <td>BG_all_meanvs95_mean</td>\n",
       "    </tr>\n",
       "    <tr>\n",
       "      <th>2</th>\n",
       "      <td>AllBGOperations(y,2)</td>\n",
       "      <td>BG_all_meanvs95_min</td>\n",
       "    </tr>\n",
       "    <tr>\n",
       "      <th>3</th>\n",
       "      <td>AllBGOperations(y,3)</td>\n",
       "      <td>BG_all_meanvs95_std</td>\n",
       "    </tr>\n",
       "    <tr>\n",
       "      <th>4</th>\n",
       "      <td>AllBGOperations(y,4)</td>\n",
       "      <td>BG_all_meanvsmax_max</td>\n",
       "    </tr>\n",
       "    <tr>\n",
       "      <th>5</th>\n",
       "      <td>AllBGOperations(y,5)</td>\n",
       "      <td>BG_all_meanvsmax_mean</td>\n",
       "    </tr>\n",
       "    <tr>\n",
       "      <th>6</th>\n",
       "      <td>AllBGOperations(y,6)</td>\n",
       "      <td>BG_all_meanvsmax_min</td>\n",
       "    </tr>\n",
       "    <tr>\n",
       "      <th>7</th>\n",
       "      <td>AllBGOperations(y,7)</td>\n",
       "      <td>BG_all_meanvsmax_std</td>\n",
       "    </tr>\n",
       "    <tr>\n",
       "      <th>8</th>\n",
       "      <td>AllBGOperations(y,8)</td>\n",
       "      <td>BG_all_minvs95_max</td>\n",
       "    </tr>\n",
       "    <tr>\n",
       "      <th>9</th>\n",
       "      <td>AllBGOperations(y,9)</td>\n",
       "      <td>BG_all_minvs95_mean</td>\n",
       "    </tr>\n",
       "    <tr>\n",
       "      <th>10</th>\n",
       "      <td>AllBGOperations(y,10)</td>\n",
       "      <td>BG_all_minvs95_min</td>\n",
       "    </tr>\n",
       "    <tr>\n",
       "      <th>11</th>\n",
       "      <td>AllBGOperations(y,11)</td>\n",
       "      <td>BG_all_minvs95_std</td>\n",
       "    </tr>\n",
       "    <tr>\n",
       "      <th>12</th>\n",
       "      <td>AllBGOperations(y,12)</td>\n",
       "      <td>BG_all_minvsmax_max</td>\n",
       "    </tr>\n",
       "    <tr>\n",
       "      <th>13</th>\n",
       "      <td>AllBGOperations(y,13)</td>\n",
       "      <td>BG_all_minvsmax_mean</td>\n",
       "    </tr>\n",
       "    <tr>\n",
       "      <th>14</th>\n",
       "      <td>AllBGOperations(y,14)</td>\n",
       "      <td>BG_all_minvsmax_min</td>\n",
       "    </tr>\n",
       "    <tr>\n",
       "      <th>15</th>\n",
       "      <td>AllBGOperations(y,15)</td>\n",
       "      <td>BG_all_minvsmax_std</td>\n",
       "    </tr>\n",
       "    <tr>\n",
       "      <th>16</th>\n",
       "      <td>AllBGOperations(y,16)</td>\n",
       "      <td>BG_breakouts_max_10_1_2</td>\n",
       "    </tr>\n",
       "    <tr>\n",
       "      <th>17</th>\n",
       "      <td>AllBGOperations(y,17)</td>\n",
       "      <td>BG_breakouts_max_10_1_3</td>\n",
       "    </tr>\n",
       "    <tr>\n",
       "      <th>18</th>\n",
       "      <td>AllBGOperations(y,18)</td>\n",
       "      <td>BG_breakouts_max_10_1_5</td>\n",
       "    </tr>\n",
       "    <tr>\n",
       "      <th>19</th>\n",
       "      <td>AllBGOperations(y,19)</td>\n",
       "      <td>BG_breakouts_max_10_2_2</td>\n",
       "    </tr>\n",
       "    <tr>\n",
       "      <th>20</th>\n",
       "      <td>AllBGOperations(y,20)</td>\n",
       "      <td>BG_breakouts_max_10_2_3</td>\n",
       "    </tr>\n",
       "    <tr>\n",
       "      <th>21</th>\n",
       "      <td>AllBGOperations(y,21)</td>\n",
       "      <td>BG_breakouts_max_10_2_5</td>\n",
       "    </tr>\n",
       "    <tr>\n",
       "      <th>22</th>\n",
       "      <td>AllBGOperations(y,22)</td>\n",
       "      <td>BG_breakouts_max_10_5_2</td>\n",
       "    </tr>\n",
       "    <tr>\n",
       "      <th>23</th>\n",
       "      <td>AllBGOperations(y,23)</td>\n",
       "      <td>BG_breakouts_max_10_5_3</td>\n",
       "    </tr>\n",
       "    <tr>\n",
       "      <th>24</th>\n",
       "      <td>AllBGOperations(y,24)</td>\n",
       "      <td>BG_breakouts_max_10_5_5</td>\n",
       "    </tr>\n",
       "    <tr>\n",
       "      <th>25</th>\n",
       "      <td>AllBGOperations(y,25)</td>\n",
       "      <td>BG_breakouts_max_30_1_2</td>\n",
       "    </tr>\n",
       "    <tr>\n",
       "      <th>26</th>\n",
       "      <td>AllBGOperations(y,26)</td>\n",
       "      <td>BG_breakouts_max_30_1_3</td>\n",
       "    </tr>\n",
       "    <tr>\n",
       "      <th>27</th>\n",
       "      <td>AllBGOperations(y,27)</td>\n",
       "      <td>BG_breakouts_max_30_1_5</td>\n",
       "    </tr>\n",
       "    <tr>\n",
       "      <th>28</th>\n",
       "      <td>AllBGOperations(y,28)</td>\n",
       "      <td>BG_breakouts_max_30_2_2</td>\n",
       "    </tr>\n",
       "    <tr>\n",
       "      <th>29</th>\n",
       "      <td>AllBGOperations(y,29)</td>\n",
       "      <td>BG_breakouts_max_30_2_3</td>\n",
       "    </tr>\n",
       "    <tr>\n",
       "      <th>...</th>\n",
       "      <td>...</td>\n",
       "      <td>...</td>\n",
       "    </tr>\n",
       "    <tr>\n",
       "      <th>285</th>\n",
       "      <td>AllBGOperations(y,285)</td>\n",
       "      <td>BG_weekdays_meanvs95_min</td>\n",
       "    </tr>\n",
       "    <tr>\n",
       "      <th>286</th>\n",
       "      <td>AllBGOperations(y,286)</td>\n",
       "      <td>BG_weekdays_meanvs95_std</td>\n",
       "    </tr>\n",
       "    <tr>\n",
       "      <th>287</th>\n",
       "      <td>AllBGOperations(y,287)</td>\n",
       "      <td>BG_weekdays_meanvsmax_max</td>\n",
       "    </tr>\n",
       "    <tr>\n",
       "      <th>288</th>\n",
       "      <td>AllBGOperations(y,288)</td>\n",
       "      <td>BG_weekdays_meanvsmax_mean</td>\n",
       "    </tr>\n",
       "    <tr>\n",
       "      <th>289</th>\n",
       "      <td>AllBGOperations(y,289)</td>\n",
       "      <td>BG_weekdays_meanvsmax_min</td>\n",
       "    </tr>\n",
       "    <tr>\n",
       "      <th>290</th>\n",
       "      <td>AllBGOperations(y,290)</td>\n",
       "      <td>BG_weekdays_meanvsmax_std</td>\n",
       "    </tr>\n",
       "    <tr>\n",
       "      <th>291</th>\n",
       "      <td>AllBGOperations(y,291)</td>\n",
       "      <td>BG_weekdays_minvs95_max</td>\n",
       "    </tr>\n",
       "    <tr>\n",
       "      <th>292</th>\n",
       "      <td>AllBGOperations(y,292)</td>\n",
       "      <td>BG_weekdays_minvs95_mean</td>\n",
       "    </tr>\n",
       "    <tr>\n",
       "      <th>293</th>\n",
       "      <td>AllBGOperations(y,293)</td>\n",
       "      <td>BG_weekdays_minvs95_min</td>\n",
       "    </tr>\n",
       "    <tr>\n",
       "      <th>294</th>\n",
       "      <td>AllBGOperations(y,294)</td>\n",
       "      <td>BG_weekdays_minvs95_std</td>\n",
       "    </tr>\n",
       "    <tr>\n",
       "      <th>295</th>\n",
       "      <td>AllBGOperations(y,295)</td>\n",
       "      <td>BG_weekdays_minvsmax_max</td>\n",
       "    </tr>\n",
       "    <tr>\n",
       "      <th>296</th>\n",
       "      <td>AllBGOperations(y,296)</td>\n",
       "      <td>BG_weekdays_minvsmax_mean</td>\n",
       "    </tr>\n",
       "    <tr>\n",
       "      <th>297</th>\n",
       "      <td>AllBGOperations(y,297)</td>\n",
       "      <td>BG_weekdays_minvsmax_min</td>\n",
       "    </tr>\n",
       "    <tr>\n",
       "      <th>298</th>\n",
       "      <td>AllBGOperations(y,298)</td>\n",
       "      <td>BG_weekdays_minvsmax_std</td>\n",
       "    </tr>\n",
       "    <tr>\n",
       "      <th>299</th>\n",
       "      <td>AllBGOperations(y,299)</td>\n",
       "      <td>BG_weekend_meanvs95_max</td>\n",
       "    </tr>\n",
       "    <tr>\n",
       "      <th>300</th>\n",
       "      <td>AllBGOperations(y,300)</td>\n",
       "      <td>BG_weekend_meanvs95_mean</td>\n",
       "    </tr>\n",
       "    <tr>\n",
       "      <th>301</th>\n",
       "      <td>AllBGOperations(y,301)</td>\n",
       "      <td>BG_weekend_meanvs95_min</td>\n",
       "    </tr>\n",
       "    <tr>\n",
       "      <th>302</th>\n",
       "      <td>AllBGOperations(y,302)</td>\n",
       "      <td>BG_weekend_meanvs95_std</td>\n",
       "    </tr>\n",
       "    <tr>\n",
       "      <th>303</th>\n",
       "      <td>AllBGOperations(y,303)</td>\n",
       "      <td>BG_weekend_meanvsmax_max</td>\n",
       "    </tr>\n",
       "    <tr>\n",
       "      <th>304</th>\n",
       "      <td>AllBGOperations(y,304)</td>\n",
       "      <td>BG_weekend_meanvsmax_mean</td>\n",
       "    </tr>\n",
       "    <tr>\n",
       "      <th>305</th>\n",
       "      <td>AllBGOperations(y,305)</td>\n",
       "      <td>BG_weekend_meanvsmax_min</td>\n",
       "    </tr>\n",
       "    <tr>\n",
       "      <th>306</th>\n",
       "      <td>AllBGOperations(y,306)</td>\n",
       "      <td>BG_weekend_meanvsmax_std</td>\n",
       "    </tr>\n",
       "    <tr>\n",
       "      <th>307</th>\n",
       "      <td>AllBGOperations(y,307)</td>\n",
       "      <td>BG_weekend_minvs95_max</td>\n",
       "    </tr>\n",
       "    <tr>\n",
       "      <th>308</th>\n",
       "      <td>AllBGOperations(y,308)</td>\n",
       "      <td>BG_weekend_minvs95_mean</td>\n",
       "    </tr>\n",
       "    <tr>\n",
       "      <th>309</th>\n",
       "      <td>AllBGOperations(y,309)</td>\n",
       "      <td>BG_weekend_minvs95_min</td>\n",
       "    </tr>\n",
       "    <tr>\n",
       "      <th>310</th>\n",
       "      <td>AllBGOperations(y,310)</td>\n",
       "      <td>BG_weekend_minvs95_std</td>\n",
       "    </tr>\n",
       "    <tr>\n",
       "      <th>311</th>\n",
       "      <td>AllBGOperations(y,311)</td>\n",
       "      <td>BG_weekend_minvsmax_max</td>\n",
       "    </tr>\n",
       "    <tr>\n",
       "      <th>312</th>\n",
       "      <td>AllBGOperations(y,312)</td>\n",
       "      <td>BG_weekend_minvsmax_mean</td>\n",
       "    </tr>\n",
       "    <tr>\n",
       "      <th>313</th>\n",
       "      <td>AllBGOperations(y,313)</td>\n",
       "      <td>BG_weekend_minvsmax_min</td>\n",
       "    </tr>\n",
       "    <tr>\n",
       "      <th>314</th>\n",
       "      <td>AllBGOperations(y,314)</td>\n",
       "      <td>BG_weekend_minvsmax_std</td>\n",
       "    </tr>\n",
       "  </tbody>\n",
       "</table>\n",
       "<p>315 rows × 2 columns</p>\n",
       "</div>"
      ],
      "text/plain": [
       "                          0                feature_name\n",
       "0      AllBGOperations(y,0)         BG_all_meanvs95_max\n",
       "1      AllBGOperations(y,1)        BG_all_meanvs95_mean\n",
       "2      AllBGOperations(y,2)         BG_all_meanvs95_min\n",
       "3      AllBGOperations(y,3)         BG_all_meanvs95_std\n",
       "4      AllBGOperations(y,4)        BG_all_meanvsmax_max\n",
       "5      AllBGOperations(y,5)       BG_all_meanvsmax_mean\n",
       "6      AllBGOperations(y,6)        BG_all_meanvsmax_min\n",
       "7      AllBGOperations(y,7)        BG_all_meanvsmax_std\n",
       "8      AllBGOperations(y,8)          BG_all_minvs95_max\n",
       "9      AllBGOperations(y,9)         BG_all_minvs95_mean\n",
       "10    AllBGOperations(y,10)          BG_all_minvs95_min\n",
       "11    AllBGOperations(y,11)          BG_all_minvs95_std\n",
       "12    AllBGOperations(y,12)         BG_all_minvsmax_max\n",
       "13    AllBGOperations(y,13)        BG_all_minvsmax_mean\n",
       "14    AllBGOperations(y,14)         BG_all_minvsmax_min\n",
       "15    AllBGOperations(y,15)         BG_all_minvsmax_std\n",
       "16    AllBGOperations(y,16)     BG_breakouts_max_10_1_2\n",
       "17    AllBGOperations(y,17)     BG_breakouts_max_10_1_3\n",
       "18    AllBGOperations(y,18)     BG_breakouts_max_10_1_5\n",
       "19    AllBGOperations(y,19)     BG_breakouts_max_10_2_2\n",
       "20    AllBGOperations(y,20)     BG_breakouts_max_10_2_3\n",
       "21    AllBGOperations(y,21)     BG_breakouts_max_10_2_5\n",
       "22    AllBGOperations(y,22)     BG_breakouts_max_10_5_2\n",
       "23    AllBGOperations(y,23)     BG_breakouts_max_10_5_3\n",
       "24    AllBGOperations(y,24)     BG_breakouts_max_10_5_5\n",
       "25    AllBGOperations(y,25)     BG_breakouts_max_30_1_2\n",
       "26    AllBGOperations(y,26)     BG_breakouts_max_30_1_3\n",
       "27    AllBGOperations(y,27)     BG_breakouts_max_30_1_5\n",
       "28    AllBGOperations(y,28)     BG_breakouts_max_30_2_2\n",
       "29    AllBGOperations(y,29)     BG_breakouts_max_30_2_3\n",
       "..                      ...                         ...\n",
       "285  AllBGOperations(y,285)    BG_weekdays_meanvs95_min\n",
       "286  AllBGOperations(y,286)    BG_weekdays_meanvs95_std\n",
       "287  AllBGOperations(y,287)   BG_weekdays_meanvsmax_max\n",
       "288  AllBGOperations(y,288)  BG_weekdays_meanvsmax_mean\n",
       "289  AllBGOperations(y,289)   BG_weekdays_meanvsmax_min\n",
       "290  AllBGOperations(y,290)   BG_weekdays_meanvsmax_std\n",
       "291  AllBGOperations(y,291)     BG_weekdays_minvs95_max\n",
       "292  AllBGOperations(y,292)    BG_weekdays_minvs95_mean\n",
       "293  AllBGOperations(y,293)     BG_weekdays_minvs95_min\n",
       "294  AllBGOperations(y,294)     BG_weekdays_minvs95_std\n",
       "295  AllBGOperations(y,295)    BG_weekdays_minvsmax_max\n",
       "296  AllBGOperations(y,296)   BG_weekdays_minvsmax_mean\n",
       "297  AllBGOperations(y,297)    BG_weekdays_minvsmax_min\n",
       "298  AllBGOperations(y,298)    BG_weekdays_minvsmax_std\n",
       "299  AllBGOperations(y,299)     BG_weekend_meanvs95_max\n",
       "300  AllBGOperations(y,300)    BG_weekend_meanvs95_mean\n",
       "301  AllBGOperations(y,301)     BG_weekend_meanvs95_min\n",
       "302  AllBGOperations(y,302)     BG_weekend_meanvs95_std\n",
       "303  AllBGOperations(y,303)    BG_weekend_meanvsmax_max\n",
       "304  AllBGOperations(y,304)   BG_weekend_meanvsmax_mean\n",
       "305  AllBGOperations(y,305)    BG_weekend_meanvsmax_min\n",
       "306  AllBGOperations(y,306)    BG_weekend_meanvsmax_std\n",
       "307  AllBGOperations(y,307)      BG_weekend_minvs95_max\n",
       "308  AllBGOperations(y,308)     BG_weekend_minvs95_mean\n",
       "309  AllBGOperations(y,309)      BG_weekend_minvs95_min\n",
       "310  AllBGOperations(y,310)      BG_weekend_minvs95_std\n",
       "311  AllBGOperations(y,311)     BG_weekend_minvsmax_max\n",
       "312  AllBGOperations(y,312)    BG_weekend_minvsmax_mean\n",
       "313  AllBGOperations(y,313)     BG_weekend_minvsmax_min\n",
       "314  AllBGOperations(y,314)     BG_weekend_minvsmax_std\n",
       "\n",
       "[315 rows x 2 columns]"
      ]
     },
     "execution_count": 158,
     "metadata": {},
     "output_type": "execute_result"
    }
   ],
   "source": [
    "masteroperations"
   ]
  },
  {
   "cell_type": "code",
   "execution_count": null,
   "metadata": {
    "collapsed": true
   },
   "outputs": [],
   "source": []
  }
 ],
 "metadata": {
  "hide_input": false,
  "kernelspec": {
   "display_name": "Python 2",
   "language": "python",
   "name": "python2"
  },
  "language_info": {
   "codemirror_mode": {
    "name": "ipython",
    "version": 2
   },
   "file_extension": ".py",
   "mimetype": "text/x-python",
   "name": "python",
   "nbconvert_exporter": "python",
   "pygments_lexer": "ipython2",
   "version": "2.7.12"
  }
 },
 "nbformat": 4,
 "nbformat_minor": 0
}
